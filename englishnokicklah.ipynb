{
  "cells":[
    {
      "cell_type":"markdown",
      "source":[
        "# Singlish to English"
      ],
      "attachments":{
        
      },
      "metadata":{
        "datalore":{
          "sheet_delimiter":false
        }
      }
    },
    {
      "cell_type":"markdown",
      "source":[
        "Import Libraries and Read CSV file with Singlish and English Phrases"
      ],
      "attachments":{
        
      },
      "metadata":{
        "datalore":{
          "sheet_delimiter":false
        }
      }
    },
    {
      "cell_type":"code",
      "source":[
        "import pandas as pd\n",
        "import numpy as np"
      ],
      "execution_count":0,
      "outputs":[
        
      ],
      "metadata":{
        "datalore":{
          "sheet_delimiter":false
        }
      }
    },
    {
      "cell_type":"code",
      "source":[
        "df = pd.read_csv('\/data\/notebook_files\/SinglishToEnglish.csv')\n",
        "print(df)"
      ],
      "execution_count":0,
      "outputs":[
        
      ],
      "metadata":{
        "datalore":{
          "sheet_delimiter":false
        }
      }
    },
    {
      "cell_type":"markdown",
      "source":[
        "Removing punctuations\n",
        "-  switching @ with at\n",
        "-  \/ with or\n",
        "-  and & with and\n",
        "-  ignoring word after #"
      ],
      "attachments":{
        
      },
      "metadata":{
        "datalore":{
          "sheet_delimiter":false
        }
      }
    },
    {
      "cell_type":"code",
      "source":[
        "def remove_punctuations(text):\n",
        "    punc = ['\"', '.', ',', '!', '(', ')']\n",
        "    special = ['#', '@', '&', '\/']\n",
        "\n",
        "    sentences = []\n",
        "    j = 0\n",
        "    subsent = '' \n",
        "    while j < len(text):\n",
        "        char = text[j]\n",
        "        #   removing special char n punctuations, append as separate\n",
        "        if char in punc:\n",
        "            if subsent != '' and not subsent.isspace():\n",
        "                sentences.append(subsent)\n",
        "                subsent = ''\n",
        "            j += 1\n",
        "        elif char in special:\n",
        "            if char == '#':\n",
        "                sentences.append(subsent)\n",
        "                subsent = ''\n",
        "                j += 1\n",
        "                while char != ' ':\n",
        "                    j += 1\n",
        "            elif char == '@':\n",
        "                subsent += 'at'\n",
        "            elif char == '&':\n",
        "                subsent += 'and'\n",
        "            elif char == '\/':\n",
        "                subsent += 'or'\n",
        "            j += 1\n",
        "        else:\n",
        "            subsent += char\n",
        "            j += 1\n",
        "    if subsent != '' and not subsent.isspace():\n",
        "        sentences.append(subsent)\n",
        "    return sentences\n",
        "\n",
        "print(remove_punctuations('brb i need to check smth, btw the meeting tmr i need to come or nt ah'))"
      ],
      "execution_count":0,
      "outputs":[
        
      ],
      "metadata":{
        "datalore":{
          "sheet_delimiter":false
        }
      }
    },
    {
      "cell_type":"markdown",
      "source":[
        "Using Dataset with Singlish and English words to \"translate\" Singlish Phrases to English Phrases"
      ],
      "attachments":{
        
      },
      "metadata":{
        "datalore":{
          "sheet_delimiter":false
        }
      }
    },
    {
      "cell_type":"code",
      "source":[
        "def singlish_to_english(sentence):    \n",
        "    corrected_sent = []\n",
        "    # for sentence in sentences:\n",
        "    if len(sentence)==1:\n",
        "        sentence = sentence[0].split()\n",
        "        i = 0\n",
        "        while i < len(sentence):\n",
        "            sentence[i]= sentence[i].lower()\n",
        "            row = df.loc[df['Singlish'] == sentence[i]]\n",
        "            if row.size == 0:\n",
        "                if len(sentence[i]) > 1:\n",
        "                    row = df[df['Singlish'].str.contains(sentence[i])]\n",
        "            if row.size != 0:\n",
        "                sentence[i] = row['English'].values[0]\n",
        "                singlish_length = len(row['Singlish'].values[0].split())\n",
        "                if singlish_length > 1:\n",
        "                    for j in range(singlish_length-1):\n",
        "                        sentence.pop(i+1)\n",
        "            i += 1\n",
        "        print('corrected',sentence)\n",
        "        corrected_sent.append(sentence)\n",
        "    else:\n",
        "        # for sentences tht r broken up\n",
        "        for phrase in sentence:\n",
        "            corrected_phrase = []\n",
        "            words = phrase.split()\n",
        "            for i in range(0,len(words)):\n",
        "                words[i] = words[i].lower()\n",
        "                row = df.loc[df['Singlish'] == words[i]]\n",
        "                if row.size == 0 and i < len(words)-1:\n",
        "                    check = words[i]+' '+words[i+1]\n",
        "                    row = df.loc[df['Singlish'] == check]\n",
        "                if row.size != 0:\n",
        "                    words[i] = row['English'].values[0]\n",
        "                corrected_phrase.append(words[i])\n",
        "            corrected_sent.append(corrected_phrase)\n",
        "    return corrected_sent\n",
        "\n",
        "# careful this needs to be in another list\n",
        "print(singlish_to_english(['brb i need to check smth', ' btw the meeting tmr i need to come or nt ah']))"
      ],
      "execution_count":0,
      "outputs":[
        
      ],
      "metadata":{
        "datalore":{
          "sheet_delimiter":false
        }
      }
    },
    {
      "cell_type":"code",
      "source":[
        "def to_sent(sent):\n",
        "    final_sents = []\n",
        "    for sentence in sent:\n",
        "        sentence = \" \".join(sentence)\n",
        "        final_sents.append(sentence)\n",
        "    return final_sents\n",
        "print(to_sent([['be right back', 'i', 'need', 'to', 'check', 'something'], ['by the way', 'the', 'meeting', 'tomorrow', 'i', 'need', 'to', 'come', 'or', 'not', '!']]))"
      ],
      "execution_count":0,
      "outputs":[
        
      ],
      "metadata":{
        "datalore":{
          "sheet_delimiter":false
        }
      }
    },
    {
      "cell_type":"markdown",
      "source":[
        "Rephrasing sentences with HuggingFace Pegasus Paraphrase API\n",
        "https:\/\/huggingface.co\/tuner007\/pegasus_paraphrase\/tree\/main  "
      ],
      "attachments":{
        
      },
      "metadata":{
        "datalore":{
          "sheet_delimiter":false
        }
      }
    },
    {
      "cell_type":"code",
      "source":[
        "def rephrase(final_sents):\n",
        "    API_KEY = ''\n",
        "    final = []\n",
        "    import requests\n",
        "\n",
        "    API_URL = \"https:\/\/api-inference.huggingface.co\/models\/tuner007\/pegasus_paraphrase\"\n",
        "    headers = {\"Authorization\": API_KEY}\n",
        "\n",
        "    def query(payload):\n",
        "        response = requests.post(API_URL, headers=headers, json=payload)\n",
        "        return response.json()\n",
        "\n",
        "    for i in range(0,len(final_sents)):\n",
        "        output = query({\"inputs\": final_sents[i]})\n",
        "        final.append(output[0]['generated_text'])\n",
        "\n",
        "    return final\n",
        "\n",
        "print(rephrase(['be right back i need to check something', 'by the way the meeting tomorrow i need to come or not !']))"
      ],
      "execution_count":0,
      "outputs":[
        
      ],
      "metadata":{
        "datalore":{
          "sheet_delimiter":false
        }
      }
    },
    {
      "cell_type":"markdown",
      "source":[
        "### Driver Code"
      ],
      "attachments":{
        
      },
      "metadata":{
        "datalore":{
          "sheet_delimiter":false
        }
      }
    },
    {
      "cell_type":"code",
      "source":[
        "sent = 'brb i need to check smth, btw the meeting tmr i need to come or nt ah'\n",
        "no_punc = remove_punctuations(sent)\n",
        "no_singlish = singlish_to_english(no_punc)\n",
        "sentences = to_sent(no_singlish)\n",
        "sent = rephrase(sentences)\n",
        "print(sent)"
      ],
      "execution_count":0,
      "outputs":[
        
      ],
      "metadata":{
        "datalore":{
          "sheet_delimiter":false
        }
      }
    }
  ],
  "metadata":{
    
  },
  "nbformat":4,
  "nbformat_minor":0
}